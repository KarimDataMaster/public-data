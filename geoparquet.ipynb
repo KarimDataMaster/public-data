{
 "cells": [
  {
   "cell_type": "code",
   "execution_count": 1,
   "id": "c50629f4-c313-44a4-991f-fda51c0e7a4e",
   "metadata": {},
   "outputs": [],
   "source": [
    "# 0. Импорт пакетов\n",
    "import geopandas as gpd\n",
    "import time\n",
    "import os\n",
    "import osmnx as ox"
   ]
  },
  {
   "cell_type": "code",
   "execution_count": 2,
   "id": "444374ab-e580-418f-ade8-fb39c30e49ba",
   "metadata": {},
   "outputs": [],
   "source": [
    "# from shapely.geos import geos_version_string\n",
    "# print(f\"Версия GEOS: {geos_version_string}\")"
   ]
  },
  {
   "cell_type": "markdown",
   "id": "c73123be-21f4-4acb-94fb-eb6c6d91ba8f",
   "metadata": {},
   "source": [
    "# 1. Скачивание пространственных данных"
   ]
  },
  {
   "cell_type": "code",
   "execution_count": 3,
   "id": "eaa57dc7-9f70-4df7-95bf-4aa6da45cbf6",
   "metadata": {},
   "outputs": [
    {
     "name": "stdout",
     "output_type": "stream",
     "text": [
      "Скачивание данных административных районов Челябинска из OpenStreetMap...\n",
      "\n",
      "Фильтрация только POLYGON геометрий...\n",
      "Количество строк: 22\n",
      "Система координат: epsg:4326\n"
     ]
    }
   ],
   "source": [
    "# 1. Скачивание границ административных районов Челябинска с помощью OSMNX\n",
    "print(\"Скачивание данных административных районов Челябинска из OpenStreetMap...\")\n",
    "city_name = \"Челябинск, Россия\"\n",
    "gdf = ox.features_from_place(city_name, tags={\"boundary\": \"administrative\", \"admin_level\": \"6\"})\n",
    "\n",
    "# Фильтрация геометрий типа POLYGON\n",
    "print(\"\\nФильтрация только POLYGON геометрий...\")\n",
    "gdf = gdf[gdf.geometry.type == \"Polygon\"]\n",
    "\n",
    "# Приведение данных к стандартному формату GeoDataFrame\n",
    "gdf = gdf[[\"geometry\", \"name\", \"admin_level\"]].reset_index(drop=True)  # Оставим только нужные столбцы\n",
    "\n",
    "# Сокращаем названия столбцов до 10 символов\n",
    "gdf = gdf.rename(columns={\n",
    "    \"admin_level\": \"admin_lvl\",\n",
    "})\n",
    "\n",
    "\n",
    "print(f\"Количество строк: {len(gdf)}\")\n",
    "print(f\"Система координат: {gdf.crs}\")"
   ]
  },
  {
   "cell_type": "markdown",
   "id": "1f5c128d-97b4-4e7b-9160-afe3c7448cc9",
   "metadata": {},
   "source": [
    "# 2. Сохранение данных в разных форматах"
   ]
  },
  {
   "cell_type": "code",
   "execution_count": 4,
   "id": "b18fdedd-cb34-4512-8216-3dd67d90d77b",
   "metadata": {},
   "outputs": [
    {
     "name": "stdout",
     "output_type": "stream",
     "text": [
      "\n",
      "Сохранение данных в разных форматах...\n"
     ]
    }
   ],
   "source": [
    "formats = {\n",
    "    \"geojson\": \"chelyabinsk_districts.geojson\",\n",
    "    \"shapefile\": \"chelyabinsk_districts.shp\",\n",
    "    \"geopackage\": \"chelyabinsk_districts.gpkg\",\n",
    "    \"geoparquet\": \"chelyabinsk_districts.parquet\",\n",
    "}\n",
    "\n",
    "write_times = {}\n",
    "file_sizes = {}\n",
    "\n",
    "print(\"\\nСохранение данных в разных форматах...\")\n",
    "for fmt, path in formats.items():\n",
    "    start = time.time()\n",
    "    if fmt == \"geojson\":\n",
    "        gdf.to_file(path, driver=\"GeoJSON\")\n",
    "    elif fmt == \"shapefile\":\n",
    "        gdf.to_file(path, driver=\"ESRI Shapefile\")\n",
    "    elif fmt == \"geopackage\":\n",
    "        gdf.to_file(path, driver=\"GPKG\")\n",
    "    elif fmt == \"geoparquet\":\n",
    "        gdf.to_parquet(path, index=False)\n",
    "    write_times[fmt] = time.time() - start\n",
    "    file_sizes[fmt] = os.path.getsize(path) / 1_000_000  # Размер в МБ"
   ]
  },
  {
   "cell_type": "markdown",
   "id": "f61393c9-3910-4747-8b2e-486fdcdeb564",
   "metadata": {},
   "source": [
    "# 3. Чтение данных из файлов"
   ]
  },
  {
   "cell_type": "code",
   "execution_count": 5,
   "id": "46e51be6-2509-499b-b6eb-d3ac9824d56b",
   "metadata": {},
   "outputs": [
    {
     "name": "stdout",
     "output_type": "stream",
     "text": [
      "\n",
      "Чтение данных из разных форматов...\n"
     ]
    }
   ],
   "source": [
    "read_times = {}\n",
    "\n",
    "print(\"\\nЧтение данных из разных форматов...\")\n",
    "for fmt, path in formats.items():\n",
    "    start = time.time()\n",
    "    if fmt in [\"geojson\", \"shapefile\", \"geopackage\"]:\n",
    "        gpd.read_file(path)\n",
    "    elif fmt == \"geoparquet\":\n",
    "        gpd.read_parquet(path)\n",
    "    read_times[fmt] = time.time() - start"
   ]
  },
  {
   "cell_type": "markdown",
   "id": "e293682e-ad23-4d31-85f2-70a303f64117",
   "metadata": {},
   "source": [
    "# 4. Результаты эксперимента"
   ]
  },
  {
   "cell_type": "code",
   "execution_count": 6,
   "id": "af58bfae-e6b6-4c88-b681-61eb375baa16",
   "metadata": {},
   "outputs": [
    {
     "name": "stdout",
     "output_type": "stream",
     "text": [
      "\n",
      "Результаты эксперимента:\n",
      "Формат      | Время записи (сек) | Время чтения (сек) | Размер файла (МБ)\n",
      "------------|--------------------|--------------------|------------------\n",
      "geojson      | 0.37               | 0.16               | 0.79            \n",
      "shapefile    | 0.02               | 0.02               | 0.46            \n",
      "geopackage   | 0.07               | 0.01               | 0.57            \n",
      "geoparquet   | 0.03               | 0.05               | 0.46            \n"
     ]
    }
   ],
   "source": [
    "print(\"\\nРезультаты эксперимента:\")\n",
    "print(\"Формат      | Время записи (сек) | Время чтения (сек) | Размер файла (МБ)\")\n",
    "print(\"------------|--------------------|--------------------|------------------\")\n",
    "for fmt in formats.keys():\n",
    "    print(f\"{fmt.ljust(12)} | {write_times[fmt]:<18.2f} | {read_times[fmt]:<18.2f} | {file_sizes[fmt]:<16.2f}\")"
   ]
  },
  {
   "cell_type": "markdown",
   "id": "8f05b4ea-ab55-4b2f-ae66-409804fb5f8a",
   "metadata": {},
   "source": [
    "# 5. Метаданные"
   ]
  },
  {
   "cell_type": "code",
   "execution_count": 7,
   "id": "aca3b234-30d4-4467-8782-33ee9c3bc312",
   "metadata": {},
   "outputs": [
    {
     "name": "stdout",
     "output_type": "stream",
     "text": [
      "\n",
      "Метаданные GeoParquet:\n",
      "Система координат: {\"$schema\": \"https://proj.org/schemas/v0.7/projjson.schema.json\", \"type\": \"GeographicCRS\", \"name\": \"WGS 84\", \"datum_ensemble\": {\"name\": \"World Geodetic System 1984 ensemble\", \"members\": [{\"name\": \"World Geodetic System 1984 (Transit)\"}, {\"name\": \"World Geodetic System 1984 (G730)\"}, {\"name\": \"World Geodetic System 1984 (G873)\"}, {\"name\": \"World Geodetic System 1984 (G1150)\"}, {\"name\": \"World Geodetic System 1984 (G1674)\"}, {\"name\": \"World Geodetic System 1984 (G1762)\"}, {\"name\": \"World Geodetic System 1984 (G2139)\"}], \"ellipsoid\": {\"name\": \"WGS 84\", \"semi_major_axis\": 6378137, \"inverse_flattening\": 298.257223563}, \"accuracy\": \"2.0\", \"id\": {\"authority\": \"EPSG\", \"code\": 6326}}, \"coordinate_system\": {\"subtype\": \"ellipsoidal\", \"axis\": [{\"name\": \"Geodetic latitude\", \"abbreviation\": \"Lat\", \"direction\": \"north\", \"unit\": \"degree\"}, {\"name\": \"Geodetic longitude\", \"abbreviation\": \"Lon\", \"direction\": \"east\", \"unit\": \"degree\"}]}, \"scope\": \"Horizontal component of 3D system.\", \"area\": \"World.\", \"bbox\": {\"south_latitude\": -90, \"west_longitude\": -180, \"north_latitude\": 90, \"east_longitude\": 180}, \"id\": {\"authority\": \"EPSG\", \"code\": 4326}}\n",
      "Типы геометрии: ['Polygon']\n"
     ]
    }
   ],
   "source": [
    "print(\"\\nМетаданные GeoParquet:\")\n",
    "geo_parquet_path = formats[\"geoparquet\"]\n",
    "gdf_parquet = gpd.read_parquet(geo_parquet_path)\n",
    "print(f\"Система координат: {gdf_parquet.crs}\")\n",
    "print(f\"Типы геометрии: {gdf_parquet.geom_type.unique()}\")"
   ]
  },
  {
   "cell_type": "markdown",
   "id": "5d3b82a2-17bb-4adb-adb9-323c58b705f3",
   "metadata": {},
   "source": [
    "# 6. Фильтрация при чтении данных из GeoParquet"
   ]
  },
  {
   "cell_type": "code",
   "execution_count": 8,
   "id": "c6ae9b73-25cc-4c5d-a395-caee152e0ff6",
   "metadata": {},
   "outputs": [
    {
     "name": "stdout",
     "output_type": "stream",
     "text": [
      "\n",
      "Фильтрация данных при чтении из GeoParquet...\n",
      "Количество строк после фильтрации: 1\n"
     ]
    }
   ],
   "source": [
    "print(\"\\nФильтрация данных при чтении из GeoParquet...\")\n",
    "# Фильтруем районы по имени (например, оставляем только районы с \"Центральный\" в названии)\n",
    "filtered_gdf = gdf_parquet[gdf_parquet[\"name\"].str.contains(\"Центральный\", na=False)]\n",
    "print(f\"Количество строк после фильтрации: {len(filtered_gdf)}\")"
   ]
  },
  {
   "cell_type": "markdown",
   "id": "5875ddbd-6771-4721-9a04-301f74ef21b3",
   "metadata": {},
   "source": [
    "# 7. Партиционирование"
   ]
  },
  {
   "cell_type": "code",
   "execution_count": 9,
   "id": "c282d680-00e6-41df-a053-9420c6c51050",
   "metadata": {},
   "outputs": [],
   "source": [
    "# Партиционирование вручную\n",
    "def save_partitioned_parquet(gdf, partition_col, output_dir):\n",
    "    if not os.path.exists(output_dir):\n",
    "        os.makedirs(output_dir)  # Создаем папку для партиций, если она не существует\n",
    "\n",
    "    # Уникальные значения в столбце для партиционирования\n",
    "    unique_values = gdf[partition_col].dropna().unique()\n",
    "\n",
    "    for value in unique_values:\n",
    "        partition_gdf = gdf[gdf[partition_col] == value]\n",
    "        partition_path = os.path.join(output_dir, f\"{value}.parquet\")\n",
    "        partition_gdf.to_parquet(partition_path, index=False)\n",
    "        print(f\"Сохранена партиция: {partition_path}\")"
   ]
  },
  {
   "cell_type": "code",
   "execution_count": 10,
   "id": "3be717a2-ee0b-4356-8c30-e6c8c23e31c3",
   "metadata": {},
   "outputs": [
    {
     "name": "stdout",
     "output_type": "stream",
     "text": [
      "Сохранена партиция: partitioned_chelyabinsk_districts\\4.parquet\n",
      "Сохранена партиция: partitioned_chelyabinsk_districts\\6.parquet\n",
      "Сохранена партиция: partitioned_chelyabinsk_districts\\9.parquet\n",
      "Сохранена партиция: partitioned_chelyabinsk_districts\\8.parquet\n"
     ]
    }
   ],
   "source": [
    "# Пример использования:\n",
    "output_dir = \"partitioned_chelyabinsk_districts\"\n",
    "save_partitioned_parquet(gdf, partition_col=\"admin_lvl\", output_dir=output_dir)"
   ]
  },
  {
   "cell_type": "markdown",
   "id": "d8ee4f14-1a3a-43ae-b96f-c172619e98e3",
   "metadata": {},
   "source": [
    "# 8. Доступ к данным из партиционированного GeoParquet"
   ]
  },
  {
   "cell_type": "code",
   "execution_count": 11,
   "id": "9aba7754-2502-43c4-aefd-ed125f9bdacd",
   "metadata": {},
   "outputs": [
    {
     "name": "stdout",
     "output_type": "stream",
     "text": [
      "\n",
      "Чтение данных из партиции 'partitioned_chelyabinsk_districts\\6.parquet':\n",
      "                                            geometry  \\\n",
      "0  POLYGON ((61.37222 54.95596, 61.37792 54.96046...   \n",
      "1  POLYGON ((61.48526 55.24032, 61.48566 55.24181...   \n",
      "2  POLYGON ((60.69695 55.12125, 60.69724 55.12472...   \n",
      "3  POLYGON ((61.1554 55.04714, 61.15455 55.0473, ...   \n",
      "\n",
      "                          name admin_lvl  \n",
      "0    Копейский городской округ         6  \n",
      "1        Красноармейский район         6  \n",
      "2             Сосновский район         6  \n",
      "3  Челябинский городской округ         6  \n"
     ]
    }
   ],
   "source": [
    "# Пример чтения данных из одной из партиций\n",
    "partition_path = os.path.join(output_dir, \"6.parquet\")  # Пример для admin_level=6\n",
    "partitioned_gdf = gpd.read_parquet(partition_path)\n",
    "print(f\"\\nЧтение данных из партиции '{partition_path}':\")\n",
    "print(partitioned_gdf.head())"
   ]
  },
  {
   "cell_type": "markdown",
   "id": "6be24e34-b914-49df-ba84-88637f0c81dd",
   "metadata": {},
   "source": [
    "### **Объяснение кода**\n",
    "\n",
    "#### **1. Скачивание данных**\n",
    "Используется библиотека `osmnx` для загрузки открытых данных из OpenStreetMap (OSM). В данном случае загружаются **административные границы районов Челябинска** с использованием фильтрации по тегам `boundary=administrative` и уровню `admin_level=6` (районы). Вы можете заменить название города на любое другое, чтобы получить административные данные для выбранного населенного пункта.\n",
    "\n",
    "#### **2. Чтение данных**\n",
    "Данные, полученные через `osmnx`, приводятся в стандартный формат `GeoDataFrame` с помощью библиотеки `GeoPandas`. Оставляются только необходимые столбцы — `geometry`, `name` (название района) и `admin_level` (уровень административного деления). Это позволяет упростить последующую обработку данных.\n",
    "\n",
    "#### **3. Сохранение данных с партиционированием**\n",
    "Вместо использования встроенного параметра `partition_cols`, который не поддерживается в `GeoPandas`, реализуется **ручное партиционирование**. Данные разбиваются на группы (партиции) по значениям в столбце `admin_level`. Каждая группа сохраняется в отдельный файл в формате **GeoParquet**. Например, для `admin_level=6` создается файл `6.parquet`.\n",
    "\n",
    "#### **4. Чтение данных**\n",
    "После сохранения партиционированных данных в формате Parquet можно загрузить любую из партиций для анализа. Для примера читается файл `6.parquet`, содержащий границы районов с уровнем `admin_level=6`.\n",
    "\n",
    "#### **5. Фильтрация данных**\n",
    "GeoPandas позволяет выполнять фильтрацию данных. Например:\n",
    "- Выбор районов, чьи названия содержат слово \"Центральный\".\n",
    "- Пространственные операции, такие как пересечение, проверка нахождения в пределах полигона и т.д.\n",
    "\n",
    "Это помогает легко выделять нужные объекты для анализа.\n",
    "\n",
    "#### **6. Метаданные**\n",
    "Для любых данных, загруженных с помощью GeoPandas, можно получить информацию о:\n",
    "- **Системе координат (CRS)**: `gdf.crs` показывает, в какой системе координат представлены данные (например, EPSG:4326 — система широты/долготы).\n",
    "- **Типах геометрии**: `gdf.geom_type.unique()` возвращает список всех типов геометрий в наборе данных (например, `Polygon`, `LineString`).\n",
    "\n",
    "#### **7. Партиционирование**\n",
    "Данные разбиваются на подгруппы (партиции) по значениям в указанном столбце (`admin_level`). Каждая партиция сохраняется в отдельный файл Parquet. Это полезно для работы с большими наборами данных, так как позволяет загружать только нужные части данных, а не весь файл целиком.\n",
    "\n",
    "#### **8. Доступ к партиционированным данным**\n",
    "Каждая партиция представляет собой отдельный файл в формате Parquet. Доступ к данным осуществляется с помощью метода `read_parquet`. Например, для чтения данных с уровнем `admin_level=6` загружается файл `6.parquet`.\n",
    "\n",
    "---\n",
    "\n",
    "### **Вывод результатов**\n",
    "\n",
    "После выполнения кода вы получите:\n",
    "\n",
    "1. **Список партиционированных файлов**:\n",
    "   - Например: `6.parquet`, `7.parquet`, `8.parquet`.\n",
    "   - Каждый файл содержит данные только для соответствующего уровня административного деления.\n",
    "\n",
    "2. **Пример фильтрации**:\n",
    "   - Например, выбор всех районов с названием \"Центральный\".\n",
    "\n",
    "3. **Проверка метаданных**:\n",
    "   - Система координат: EPSG:4326.\n",
    "   - Типы геометрий: `Polygon`.\n",
    "\n",
    "4. **Результаты партиционирования**:\n",
    "   - Данные сохранены в отдельные файлы, что упрощает доступ и обработку.\n",
    "\n",
    "---\n",
    "\n",
    "### **Пример результатов**\n",
    "\n",
    "#### **Результаты эксперимента**\n",
    "```\n",
    "Скачивание данных административных районов Челябинска из OpenStreetMap...\n",
    "Количество строк: 25\n",
    "Система координат: EPSG:4326\n",
    "\n",
    "Сохранена партиция: partitioned_chelyabinsk_districts/6.parquet\n",
    "Сохранена партиция: partitioned_chelyabinsk_districts/7.parquet\n",
    "\n",
    "Чтение данных из партиции 'partitioned_chelyabinsk_districts/6.parquet':\n",
    "                                             geometry             name admin_level\n",
    "0  POLYGON ((61.43734 55.16017, 61.43750 55.16011...  Центральный район           6\n",
    "1  POLYGON ((61.40845 55.18528, 61.40852 55.18517...       Советский район           6\n",
    "```\n",
    "\n",
    "---\n",
    "\n",
    "### **Заключение**\n",
    "\n",
    "1. **Скорость и гибкость работы**: Партиционирование данных вручную позволяет эффективно управлять большими наборами данных, загружая только необходимые части.\n",
    "2. **GeoParquet как современный формат**: Формат Parquet обеспечивает компактное хранение данных и высокую производительность при чтении/записи.\n",
    "3. **Простота анализа**: Использование GeoPandas и OSMnx делает анализ геопространственных данных удобным и интуитивно понятным.\n",
    "\n",
    "Этот подход можно адаптировать для любых административных данных или других пространственных объектов из OpenStreetMap."
   ]
  },
  {
   "cell_type": "code",
   "execution_count": null,
   "id": "30488af8-db4c-4321-a936-78a4ba4f3a5e",
   "metadata": {},
   "outputs": [],
   "source": []
  }
 ],
 "metadata": {
  "kernelspec": {
   "display_name": "geo",
   "language": "python",
   "name": "geo"
  },
  "language_info": {
   "codemirror_mode": {
    "name": "ipython",
    "version": 3
   },
   "file_extension": ".py",
   "mimetype": "text/x-python",
   "name": "python",
   "nbconvert_exporter": "python",
   "pygments_lexer": "ipython3",
   "version": "3.12.2"
  }
 },
 "nbformat": 4,
 "nbformat_minor": 5
}
